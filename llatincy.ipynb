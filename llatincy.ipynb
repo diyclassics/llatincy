{
 "cells": [
  {
   "attachments": {},
   "cell_type": "markdown",
   "metadata": {},
   "source": [
    "# Few-shot Latin verse/prose classification with spaCy and gpt-3.5-turbo"
   ]
  },
  {
   "cell_type": "code",
   "execution_count": 1,
   "metadata": {},
   "outputs": [],
   "source": [
    "def preprocess(text):\n",
    "    text = text.replace(\"\\n\", \" \")\n",
    "    text = text.replace(\"v\", \"u\").replace(\"V\", \"U\")\n",
    "    return text"
   ]
  },
  {
   "cell_type": "code",
   "execution_count": 2,
   "metadata": {},
   "outputs": [],
   "source": [
    "# Cat. 5\n",
    "verse_example = \"\"\"Vivamus mea Lesbia, atque amemus,\n",
    "rumoresque senum severiorum\n",
    "omnes unius aestimemus assis!\"\"\"\n",
    "\n",
    "# Cic. In Cat. 1.5\n",
    "prose_example = \"\"\"Castra sunt in Italia contra populum Romanum in Etruriae faucibus conlocata, crescit in dies singulos hostium numerus; eorum autem castrorum imperatorem ducemque hostium intra moenia atque adeo in senatu videtis intestinam aliquam cotidie perniciem rei publicae molientem.\"\"\""
   ]
  },
  {
   "cell_type": "code",
   "execution_count": 3,
   "metadata": {},
   "outputs": [
    {
     "name": "stdout",
     "output_type": "stream",
     "text": [
      "Cat. 5\n",
      "Text: Uiuamus mea Lesbia, atque amemus, rumoresque senum seueriorum omnes unius\n",
      "aestimemus assis!\n",
      "Categories: {'PROSE': 0.0, 'VERSE': 1.0}\n"
     ]
    }
   ],
   "source": [
    "print('Cat. 5')\n",
    "!python llatincy.py \"{preprocess(verse_example)}\" ./llm-config.cfg"
   ]
  },
  {
   "cell_type": "code",
   "execution_count": 4,
   "metadata": {},
   "outputs": [
    {
     "name": "stdout",
     "output_type": "stream",
     "text": [
      "Cic. In Cat. 1.5\n",
      "Text: Castra sunt in Italia contra populum Romanum in Etruriae faucibus\n",
      "conlocata, crescit in dies singulos hostium numerus; eorum autem castrorum\n",
      "imperatorem ducemque hostium intra moenia atque adeo in senatu uidetis\n",
      "intestinam aliquam cotidie perniciem rei publicae molientem.\n",
      "Categories: {'PROSE': 1.0, 'VERSE': 0.0}\n"
     ]
    }
   ],
   "source": [
    "print(\"Cic. In Cat. 1.5\")\n",
    "!python llatincy.py \"{preprocess(prose_example)}\" ./llm-config.cfg"
   ]
  }
 ],
 "metadata": {
  "kernelspec": {
   "display_name": "latincy",
   "language": "python",
   "name": "python3"
  },
  "language_info": {
   "codemirror_mode": {
    "name": "ipython",
    "version": 3
   },
   "file_extension": ".py",
   "mimetype": "text/x-python",
   "name": "python",
   "nbconvert_exporter": "python",
   "pygments_lexer": "ipython3",
   "version": "3.10.8"
  },
  "orig_nbformat": 4
 },
 "nbformat": 4,
 "nbformat_minor": 2
}
